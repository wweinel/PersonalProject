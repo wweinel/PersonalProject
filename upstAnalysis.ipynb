{
 "cells": [
  {
   "attachments": {},
   "cell_type": "markdown",
   "id": "53335298",
   "metadata": {},
   "source": [
    "## UPST Stock Analysis\n",
    "<img src=\"static/logo.png\" alt=\"error\" width=\"500\" height=\"100\">\n",
    "\n",
    "### Abstract\n",
    "information\n",
    "information\n",
    "\n",
    "### Process\n",
    "sub heading"
   ]
  },
  {
   "cell_type": "code",
   "execution_count": 2,
   "id": "7cf1912a",
   "metadata": {},
   "outputs": [
    {
     "name": "stdout",
     "output_type": "stream",
     "text": [
      "    rating out of 5          date\n",
      "0                 5  Mar 28, 2023\n",
      "1                 5  Mar 27, 2023\n",
      "2                 2  Mar 27, 2023\n",
      "3                 5  Mar 25, 2023\n",
      "4                 5  Mar 24, 2023\n",
      "5                 5  Mar 24, 2023\n",
      "6                 5  Mar 23, 2023\n",
      "7                 5  Mar 22, 2023\n",
      "8                 5  Mar 21, 2023\n",
      "9                 5  Mar 21, 2023\n",
      "10                5  Mar 20, 2023\n",
      "11                5  Mar 20, 2023\n",
      "12                5  Mar 20, 2023\n",
      "13                5  Mar 19, 2023\n",
      "14                5  Mar 19, 2023\n",
      "15                5  Mar 18, 2023\n",
      "16                5  Mar 18, 2023\n",
      "17                5  Mar 18, 2023\n",
      "18                5  Mar 17, 2023\n",
      "19                5  Mar 17, 2023\n",
      "20                5  Mar 17, 2023\n",
      "21                5  Mar 15, 2023\n",
      "22                5  Mar 15, 2023\n",
      "23                5  Mar 15, 2023\n",
      "24                4  Mar 14, 2023\n",
      "25                5  Mar 14, 2023\n",
      "26                5  Mar 14, 2023\n",
      "27                5  Mar 14, 2023\n",
      "28                5  Mar 13, 2023\n",
      "29                5  Mar 12, 2023\n",
      "    rating out of 5          date\n",
      "0                 5  Mar 28, 2023\n",
      "1                 5  Mar 27, 2023\n",
      "2                 2  Mar 27, 2023\n",
      "3                 5  Mar 25, 2023\n",
      "4                 5  Mar 24, 2023\n",
      "5                 5  Mar 24, 2023\n",
      "6                 5  Mar 23, 2023\n",
      "7                 5  Mar 22, 2023\n",
      "8                 5  Mar 21, 2023\n",
      "9                 5  Mar 21, 2023\n",
      "10                5  Mar 20, 2023\n",
      "11                5  Mar 20, 2023\n",
      "12                5  Mar 20, 2023\n",
      "13                5  Mar 19, 2023\n",
      "14                5  Mar 19, 2023\n",
      "15                5  Mar 18, 2023\n",
      "16                5  Mar 18, 2023\n",
      "17                5  Mar 18, 2023\n",
      "18                5  Mar 17, 2023\n",
      "19                5  Mar 17, 2023\n",
      "20                5  Mar 17, 2023\n",
      "21                5  Mar 15, 2023\n",
      "22                5  Mar 15, 2023\n",
      "23                5  Mar 15, 2023\n",
      "24                4  Mar 14, 2023\n",
      "25                5  Mar 14, 2023\n",
      "26                5  Mar 14, 2023\n",
      "27                5  Mar 14, 2023\n",
      "28                5  Mar 13, 2023\n",
      "29                5  Mar 12, 2023\n"
     ]
    }
   ],
   "source": [
    "from scraper import scrape\n",
    "import pandas as pd\n",
    "\n",
    "url = \"https://www.creditkarma.com/reviews/personal-loan/single/id/upstart-personal-loans?pg={}\"\n",
    "startPage = 1\n",
    "endPage = 3\n",
    "csvName = \"test.csv\"\n",
    "# Format scrape(url:str,startPage:int,endPage:int,csvName:str)\n",
    "scrape(url,startPage,endPage,csvName)\n",
    "\n",
    "# Read in the file and store it in a DataFrame\n",
    "df = pd.read_csv(csvName)\n",
    "\n",
    "# Print the DataFrame\n",
    "print(df)"
   ]
  }
 ],
 "metadata": {
  "kernelspec": {
   "display_name": "Python 3 (ipykernel)",
   "language": "python",
   "name": "python3"
  },
  "language_info": {
   "codemirror_mode": {
    "name": "ipython",
    "version": 3
   },
   "file_extension": ".py",
   "mimetype": "text/x-python",
   "name": "python",
   "nbconvert_exporter": "python",
   "pygments_lexer": "ipython3",
   "version": "3.9.2"
  }
 },
 "nbformat": 4,
 "nbformat_minor": 5
}
