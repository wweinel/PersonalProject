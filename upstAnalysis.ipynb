{
 "cells": [
  {
   "attachments": {},
   "cell_type": "markdown",
   "id": "53335298",
   "metadata": {},
   "source": [
    "## UPST Stock Analysis\n",
    "<img src=\"static/logo.png\" alt=\"error\" width=\"500\" height=\"100\">\n",
    "\n",
    "### Abstract\n",
    "information\n",
    "information\n",
    "\n",
    "### Process\n",
    "sub heading"
   ]
  },
  {
   "cell_type": "code",
   "execution_count": 7,
   "id": "7cf1912a",
   "metadata": {},
   "outputs": [
    {
     "name": "stdout",
     "output_type": "stream",
     "text": [
      "There are  14332  reviews and  1434 pages\n"
     ]
    }
   ],
   "source": [
    "from scraper import scrape\n",
    "from functions import reviewCount\n",
    "import pandas as pd\n",
    "\n",
    "url = \"https://www.creditkarma.com/reviews/personal-loan/single/id/upstart-personal-loans?pg={}\"\n",
    "startPage = 1\n",
    "endPage = 1\n",
    "csvName = \"test.csv\"\n",
    "# Format scrape(url:str,startPage:int,endPage:int,csvName:str)\n",
    "#scrape(url,startPage,endPage,csvName)\n",
    "\n",
    "reviews = reviewCount(url)\n",
    "pageCount = int(reviews/10)\n",
    "if(reviews%10 != 0):\n",
    "    pageCount += 1\n",
    "print(\"There are \",reviews,\" reviews and \",pageCount, \"pages\")\n",
    "\n",
    "#startPage = int(input(\"What page would you like to start reading at: \"))\n",
    "#endPage = int(input(\"To what page would you like to read to: \"))"
   ]
  },
  {
   "cell_type": "code",
   "execution_count": 8,
   "id": "0efecdf1",
   "metadata": {},
   "outputs": [
    {
     "name": "stdout",
     "output_type": "stream",
     "text": [
      "   rating out of 5          date\n",
      "0                3  Mar 31, 2023\n",
      "1                5  Mar 31, 2023\n",
      "2                5  Mar 30, 2023\n",
      "3                5  Mar 28, 2023\n",
      "4                5  Mar 27, 2023\n",
      "5                2  Mar 27, 2023\n",
      "6                5  Mar 25, 2023\n",
      "7                5  Mar 24, 2023\n",
      "8                5  Mar 24, 2023\n",
      "9                5  Mar 23, 2023\n"
     ]
    }
   ],
   "source": [
    "print(scrape(url,startPage,endPage,csvName))"
   ]
  }
 ],
 "metadata": {
  "kernelspec": {
   "display_name": "Python 3 (ipykernel)",
   "language": "python",
   "name": "python3"
  },
  "language_info": {
   "codemirror_mode": {
    "name": "ipython",
    "version": 3
   },
   "file_extension": ".py",
   "mimetype": "text/x-python",
   "name": "python",
   "nbconvert_exporter": "python",
   "pygments_lexer": "ipython3",
   "version": "3.9.2"
  }
 },
 "nbformat": 4,
 "nbformat_minor": 5
}
