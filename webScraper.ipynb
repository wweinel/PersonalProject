{
 "cells": [
  {
   "attachments": {},
   "cell_type": "markdown",
   "id": "6448a6e3",
   "metadata": {},
   "source": [
    "(venv) $ python -m pip install requests  \n",
    "\n",
    "(venv) $ python -m pip install beautifulsoup4  \n",
    "\n",
    "(venv) $ python pip install requests-html\n"
   ]
  },
  {
   "attachments": {},
   "cell_type": "markdown",
   "id": "83a08556",
   "metadata": {},
   "source": [
    "## Title\n",
    "\n",
    "Info\n",
    "\n",
    "https://www.creditkarma.com/reviews/personal-loan/single/id/upstart-personal-loans?pg=1\n",
    "https://www.creditkarma.com/reviews/personal-loan/single/id/upstart-personal-loans?pg=2\n",
    "https://www.creditkarma.com/reviews/personal-loan/single/id/upstart-personal-loans?pg=1433  \n",
    "14327  \n",
    "14327/10= 1432 = pg-count  \n",
    "if(14327/10 > 0)  \n",
    "    pg-count++;\n"
   ]
  },
  {
   "attachments": {},
   "cell_type": "markdown",
   "id": "2d1952ca",
   "metadata": {},
   "source": [
    "<svg width=\"14\" height=\"14\" viewBox=\"0 0 24 24\" class=\"fill-currentColor dib \" aria-hidden=\"true\" focusable=\"false\" style=\"fill: none; stroke: rgb(110, 118, 119); stroke-width: 1px;\"><path d=\"M17.854 21.904a.916.916 0 01-.461-.126L12 18.646l-5.39 3.132a.923.923 0 01-1.365-.997l1.34-6.067-4.672-4.18a.923.923 0 01.53-1.608l6.21-.578 2.5-5.752a.923.923 0 011.693 0l2.5 5.752 6.212.578a.923.923 0 01.53 1.607l-4.673 4.18 1.34 6.068a.923.923 0 01-.9 1.123z\" fill-rule=\"nonzero\"></path></svg>  \n",
    "Example of an empty cell note \"style fill: none\"\n",
    "\n",
    "<svg width=\"14\" height=\"14\" viewBox=\"0 0 24 24\" class=\"fill-currentColor dib kpl-color-forms-control-fill-selected\" aria-hidden=\"true\" focusable=\"false\"><path d=\"M17.854 21.904a.916.916 0 01-.461-.126L12 18.646l-5.39 3.132a.923.923 0 01-1.365-.997l1.34-6.067-4.672-4.18a.923.923 0 01.53-1.608l6.21-.578 2.5-5.752a.923.923 0 011.693 0l2.5 5.752 6.212.578a.923.923 0 01.53 1.607l-4.673 4.18 1.34 6.068a.923.923 0 01-.9 1.123z\" fill-rule=\"nonzero\"></path></svg>  \n",
    "Example of an empty cell note \"class=\"fill-currentColor...\"\n",
    "\n",
    "<div role=\"img\" class=\"flex-shrink-0 mr2\" aria-label=\"Rating: 4 out of 5 stars\"><svg width=\"14\" height=\"14\" viewBox=\"0 0 24 24\" class=\"fill-currentColor dib kpl-color-forms-control-fill-selected\" aria-hidden=\"true\" focusable=\"false\"><path d=\"M17.854 21.904a.916.916 0 01-.461-.126L12 18.646l-5.39 3.132a.923.923 0 01-1.365-.997l1.34-6.067-4.672-4.18a.923.923 0 01.53-1.608l6.21-.578 2.5-5.752a.923.923 0 011.693 0l2.5 5.752 6.212.578a.923.923 0 01.53 1.607l-4.673 4.18 1.34 6.068a.923.923 0 01-.9 1.123z\" fill-rule=\"nonzero\"></path></svg><svg width=\"14\" height=\"14\" viewBox=\"0 0 24 24\" class=\"fill-currentColor dib kpl-color-forms-control-fill-selected\" aria-hidden=\"true\" focusable=\"false\"><path d=\"M17.854 21.904a.916.916 0 01-.461-.126L12 18.646l-5.39 3.132a.923.923 0 01-1.365-.997l1.34-6.067-4.672-4.18a.923.923 0 01.53-1.608l6.21-.578 2.5-5.752a.923.923 0 011.693 0l2.5 5.752 6.212.578a.923.923 0 01.53 1.607l-4.673 4.18 1.34 6.068a.923.923 0 01-.9 1.123z\" fill-rule=\"nonzero\"></path></svg><svg width=\"14\" height=\"14\" viewBox=\"0 0 24 24\" class=\"fill-currentColor dib kpl-color-forms-control-fill-selected\" aria-hidden=\"true\" focusable=\"false\"><path d=\"M17.854 21.904a.916.916 0 01-.461-.126L12 18.646l-5.39 3.132a.923.923 0 01-1.365-.997l1.34-6.067-4.672-4.18a.923.923 0 01.53-1.608l6.21-.578 2.5-5.752a.923.923 0 011.693 0l2.5 5.752 6.212.578a.923.923 0 01.53 1.607l-4.673 4.18 1.34 6.068a.923.923 0 01-.9 1.123z\" fill-rule=\"nonzero\"></path></svg><svg width=\"14\" height=\"14\" viewBox=\"0 0 24 24\" class=\"fill-currentColor dib kpl-color-forms-control-fill-selected\" aria-hidden=\"true\" focusable=\"false\"><path d=\"M17.854 21.904a.916.916 0 01-.461-.126L12 18.646l-5.39 3.132a.923.923 0 01-1.365-.997l1.34-6.067-4.672-4.18a.923.923 0 01.53-1.608l6.21-.578 2.5-5.752a.923.923 0 011.693 0l2.5 5.752 6.212.578a.923.923 0 01.53 1.607l-4.673 4.18 1.34 6.068a.923.923 0 01-.9 1.123z\" fill-rule=\"nonzero\"></path></svg><svg width=\"14\" height=\"14\" viewBox=\"0 0 24 24\" class=\"fill-currentColor dib \" aria-hidden=\"true\" focusable=\"false\" style=\"fill: none; stroke: rgb(110, 118, 119); stroke-width: 1px;\"><path d=\"M17.854 21.904a.916.916 0 01-.461-.126L12 18.646l-5.39 3.132a.923.923 0 01-1.365-.997l1.34-6.067-4.672-4.18a.923.923 0 01.53-1.608l6.21-.578 2.5-5.752a.923.923 0 011.693 0l2.5 5.752 6.212.578a.923.923 0 01.53 1.607l-4.673 4.18 1.34 6.068a.923.923 0 01-.9 1.123z\" fill-rule=\"nonzero\"></path></svg></div><span class=\"f5 self-start relative kpl-color-text-primary\"><span>Oct 17, 2014</span></span></div>\n",
    "\n",
    "    <div role=\"img\" class=\"flex-shrink-0 mr2\" aria-label=\"Rating: 4 out of 5 stars\"> located at top of block\n",
    "    <span class=\"f5 self-start relative kpl-color-text-primary\"><span>Oct 17, 2014</span></span></div> located  at bottom of block\n",
    "\n",
    "\n",
    "    <div class=\"center pa3\"><div><article class=\"pv3\"><header><div class=\"flex row\"><div class=\"lh-solid flex items-start kpl-color-background-page\"><div role=\"img\" class=\"flex-shrink-0 mr2\" aria-label=\"Rating: 5 out of 5 stars\"> `\n"
   ]
  },
  {
   "cell_type": "code",
   "execution_count": null,
   "id": "a8f39ea8",
   "metadata": {},
   "outputs": [],
   "source": [
    "import requests\n",
    "from bs4 import BeautifulSoup\n",
    "from requests_html import HTMLSession\n",
    "session = HTMLSession()\n",
    "\n",
    "\n",
    "URL = \"https://www.creditkarma.com/reviews/personal-loan/single/id/upstart-personal-loans?pg=1433\"\n",
    "response = session.get(URL)\n",
    "response.html.render()\n",
    "\n",
    "container = response.html.find(\".center pa3\", wait=True)\n",
    "\n",
    "\n",
    "#job_elements = results.find_all(\"div\", class_=\"card-content\")\n",
    "print(container)\n"
   ]
  },
  {
   "cell_type": "code",
   "execution_count": null,
   "id": "101ff659",
   "metadata": {},
   "outputs": [],
   "source": [
    "from selenium import webdriver\n"
   ]
  },
  {
   "cell_type": "code",
   "execution_count": null,
   "id": "442d0ae4",
   "metadata": {},
   "outputs": [],
   "source": [
    "from requests_html import HTMLSession\n",
    "import pyppdf.patch_pyppeteer\n",
    "from bs4 import BeautifulSoup\n",
    "\n",
    "url = 'https://www.creditkarma.com/reviews/personal-loan/single/id/upstart-personal-loans?pg=1433'\n",
    "\n",
    "session = HTMLSession()\n",
    "\n",
    "\n",
    "resp = session.get(url)\n",
    "resp.html.render()\n",
    "html = resp.html.html\n",
    "\n",
    "page_soup = BeautifulSoup(html, 'html.parser')\n",
    "\n",
    "print(page_soup)"
   ]
  },
  {
   "cell_type": "code",
   "execution_count": null,
   "id": "e2d0c7a4",
   "metadata": {},
   "outputs": [],
   "source": [
    "import re\n",
    "import json\n",
    "from requests_html import HTMLSession\n",
    "\n",
    "URL = \"https://www.investing.com/equities/google-inc-c-balance-sheet\"\n",
    "\n",
    "session = HTMLSession()\n",
    "response = session.get(URL)\n",
    "\n",
    "response.html.render(keep_page=True, timeout=60)\n",
    "\n",
    "\n",
    "async def run():\n",
    "\n",
    "    # Click on Annual button and wait for results\n",
    "    await response.html.page.click(\"a[data-ptype='Annual']\")\n",
    "    await response.html.page.waitForSelector(\"table[class='genTbl reportTbl']\")\n",
    "\n",
    "    elements = await response.html.page.xpath(\n",
    "        \"//*[@id='rrtable']/table//*[@id='header_row']/th/span\")\n",
    "    for element in elements:\n",
    "        text = await response.html.page.evaluate('(e) => e.textContent',\n",
    "                                                 element)\n",
    "        match = re.search(r\"\\d\\d\\d\\d\", text.strip())\n",
    "        if match:\n",
    "            print(match.string)\n",
    "\n",
    "    print(\"Completed...\")\n",
    "\n",
    "\n",
    "try:\n",
    "    session.loop.run_until_complete(run())\n",
    "finally:\n",
    "    session.close()"
   ]
  },
  {
   "cell_type": "markdown",
   "id": "f5745aa4",
   "metadata": {},
   "source": []
  },
  {
   "cell_type": "code",
   "execution_count": null,
   "id": "7ca49284",
   "metadata": {},
   "outputs": [],
   "source": []
  }
 ],
 "metadata": {
  "kernelspec": {
   "display_name": "Python 3 (ipykernel)",
   "language": "python",
   "name": "python3"
  },
  "language_info": {
   "codemirror_mode": {
    "name": "ipython",
    "version": 3
   },
   "file_extension": ".py",
   "mimetype": "text/x-python",
   "name": "python",
   "nbconvert_exporter": "python",
   "pygments_lexer": "ipython3",
   "version": "3.9.2"
  }
 },
 "nbformat": 4,
 "nbformat_minor": 5
}
