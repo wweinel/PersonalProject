{
 "cells": [
  {
   "attachments": {},
   "cell_type": "markdown",
   "id": "83a08556",
   "metadata": {},
   "source": [
    "## Title\n",
    "\n",
    "Info\n",
    "\n",
    "https://www.creditkarma.com/reviews/personal-loan/single/id/upstart-personal-loans?pg=1\n",
    "https://www.creditkarma.com/reviews/personal-loan/single/id/upstart-personal-loans?pg=2\n",
    "https://www.creditkarma.com/reviews/personal-loan/single/id/upstart-personal-loans?pg=1433  \n",
    "14327  \n",
    "14327/10= 1432 = pg-count  \n",
    "if(14327/10 > 0)  \n",
    "    pg-count++;\n"
   ]
  },
  {
   "attachments": {},
   "cell_type": "markdown",
   "id": "2d1952ca",
   "metadata": {},
   "source": [
    "<svg width=\"14\" height=\"14\" viewBox=\"0 0 24 24\" class=\"fill-currentColor dib \" aria-hidden=\"true\" focusable=\"false\" style=\"fill: none; stroke: rgb(110, 118, 119); stroke-width: 1px;\"><path d=\"M17.854 21.904a.916.916 0 01-.461-.126L12 18.646l-5.39 3.132a.923.923 0 01-1.365-.997l1.34-6.067-4.672-4.18a.923.923 0 01.53-1.608l6.21-.578 2.5-5.752a.923.923 0 011.693 0l2.5 5.752 6.212.578a.923.923 0 01.53 1.607l-4.673 4.18 1.34 6.068a.923.923 0 01-.9 1.123z\" fill-rule=\"nonzero\"></path></svg>  \n",
    "Example of an empty cell note \"style fill: none\"\n",
    "\n",
    "<svg width=\"14\" height=\"14\" viewBox=\"0 0 24 24\" class=\"fill-currentColor dib kpl-color-forms-control-fill-selected\" aria-hidden=\"true\" focusable=\"false\"><path d=\"M17.854 21.904a.916.916 0 01-.461-.126L12 18.646l-5.39 3.132a.923.923 0 01-1.365-.997l1.34-6.067-4.672-4.18a.923.923 0 01.53-1.608l6.21-.578 2.5-5.752a.923.923 0 011.693 0l2.5 5.752 6.212.578a.923.923 0 01.53 1.607l-4.673 4.18 1.34 6.068a.923.923 0 01-.9 1.123z\" fill-rule=\"nonzero\"></path></svg>  \n",
    "Example of an empty cell note \"class=\"fill-currentColor...\"\n",
    "\n",
    "<div role=\"img\" class=\"flex-shrink-0 mr2\" aria-label=\"Rating: 4 out of 5 stars\"><svg width=\"14\" height=\"14\" viewBox=\"0 0 24 24\" class=\"fill-currentColor dib kpl-color-forms-control-fill-selected\" aria-hidden=\"true\" focusable=\"false\"><path d=\"M17.854 21.904a.916.916 0 01-.461-.126L12 18.646l-5.39 3.132a.923.923 0 01-1.365-.997l1.34-6.067-4.672-4.18a.923.923 0 01.53-1.608l6.21-.578 2.5-5.752a.923.923 0 011.693 0l2.5 5.752 6.212.578a.923.923 0 01.53 1.607l-4.673 4.18 1.34 6.068a.923.923 0 01-.9 1.123z\" fill-rule=\"nonzero\"></path></svg><svg width=\"14\" height=\"14\" viewBox=\"0 0 24 24\" class=\"fill-currentColor dib kpl-color-forms-control-fill-selected\" aria-hidden=\"true\" focusable=\"false\"><path d=\"M17.854 21.904a.916.916 0 01-.461-.126L12 18.646l-5.39 3.132a.923.923 0 01-1.365-.997l1.34-6.067-4.672-4.18a.923.923 0 01.53-1.608l6.21-.578 2.5-5.752a.923.923 0 011.693 0l2.5 5.752 6.212.578a.923.923 0 01.53 1.607l-4.673 4.18 1.34 6.068a.923.923 0 01-.9 1.123z\" fill-rule=\"nonzero\"></path></svg><svg width=\"14\" height=\"14\" viewBox=\"0 0 24 24\" class=\"fill-currentColor dib kpl-color-forms-control-fill-selected\" aria-hidden=\"true\" focusable=\"false\"><path d=\"M17.854 21.904a.916.916 0 01-.461-.126L12 18.646l-5.39 3.132a.923.923 0 01-1.365-.997l1.34-6.067-4.672-4.18a.923.923 0 01.53-1.608l6.21-.578 2.5-5.752a.923.923 0 011.693 0l2.5 5.752 6.212.578a.923.923 0 01.53 1.607l-4.673 4.18 1.34 6.068a.923.923 0 01-.9 1.123z\" fill-rule=\"nonzero\"></path></svg><svg width=\"14\" height=\"14\" viewBox=\"0 0 24 24\" class=\"fill-currentColor dib kpl-color-forms-control-fill-selected\" aria-hidden=\"true\" focusable=\"false\"><path d=\"M17.854 21.904a.916.916 0 01-.461-.126L12 18.646l-5.39 3.132a.923.923 0 01-1.365-.997l1.34-6.067-4.672-4.18a.923.923 0 01.53-1.608l6.21-.578 2.5-5.752a.923.923 0 011.693 0l2.5 5.752 6.212.578a.923.923 0 01.53 1.607l-4.673 4.18 1.34 6.068a.923.923 0 01-.9 1.123z\" fill-rule=\"nonzero\"></path></svg><svg width=\"14\" height=\"14\" viewBox=\"0 0 24 24\" class=\"fill-currentColor dib \" aria-hidden=\"true\" focusable=\"false\" style=\"fill: none; stroke: rgb(110, 118, 119); stroke-width: 1px;\"><path d=\"M17.854 21.904a.916.916 0 01-.461-.126L12 18.646l-5.39 3.132a.923.923 0 01-1.365-.997l1.34-6.067-4.672-4.18a.923.923 0 01.53-1.608l6.21-.578 2.5-5.752a.923.923 0 011.693 0l2.5 5.752 6.212.578a.923.923 0 01.53 1.607l-4.673 4.18 1.34 6.068a.923.923 0 01-.9 1.123z\" fill-rule=\"nonzero\"></path></svg></div><span class=\"f5 self-start relative kpl-color-text-primary\"><span>Oct 17, 2014</span></span></div>\n",
    "\n",
    "    <div role=\"img\" class=\"flex-shrink-0 mr2\" aria-label=\"Rating: 4 out of 5 stars\"> located at top of block\n",
    "    <span class=\"f5 self-start relative kpl-color-text-primary\"><span>Oct 17, 2014</span></span></div> located  at bottom of block\n",
    "\n"
   ]
  },
  {
   "cell_type": "code",
   "execution_count": 1,
   "id": "a8f39ea8",
   "metadata": {},
   "outputs": [
    {
     "ename": "ModuleNotFoundError",
     "evalue": "No module named 'requests'",
     "output_type": "error",
     "traceback": [
      "\u001b[1;31m---------------------------------------------------------------------------\u001b[0m",
      "\u001b[1;31mModuleNotFoundError\u001b[0m                       Traceback (most recent call last)",
      "Cell \u001b[1;32mIn[1], line 1\u001b[0m\n\u001b[1;32m----> 1\u001b[0m \u001b[39mimport\u001b[39;00m \u001b[39mrequests\u001b[39;00m\n\u001b[0;32m      3\u001b[0m URL \u001b[39m=\u001b[39m \u001b[39m\"\u001b[39m\u001b[39mhttps://realpython.github.io/fake-jobs/\u001b[39m\u001b[39m\"\u001b[39m\n\u001b[0;32m      4\u001b[0m page \u001b[39m=\u001b[39m requests\u001b[39m.\u001b[39mget(URL)\n",
      "\u001b[1;31mModuleNotFoundError\u001b[0m: No module named 'requests'"
     ]
    }
   ],
   "source": [
    "import requests\n",
    "\n",
    "URL = \"https://realpython.github.io/fake-jobs/\"\n",
    "page = requests.get(URL)\n",
    "\n",
    "print(page.text)\n"
   ]
  }
 ],
 "metadata": {
  "kernelspec": {
   "display_name": "Python 3 (ipykernel)",
   "language": "python",
   "name": "python3"
  },
  "language_info": {
   "codemirror_mode": {
    "name": "ipython",
    "version": 3
   },
   "file_extension": ".py",
   "mimetype": "text/x-python",
   "name": "python",
   "nbconvert_exporter": "python",
   "pygments_lexer": "ipython3",
   "version": "3.9.2"
  }
 },
 "nbformat": 4,
 "nbformat_minor": 5
}
